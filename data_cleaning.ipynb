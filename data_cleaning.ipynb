{
 "cells": [
  {
   "attachments": {},
   "cell_type": "markdown",
   "metadata": {},
   "source": [
    "# Code to clean simulation output into data for plotting\n",
    "\n",
    "This notebook requires existing simulation data to be in the `sim` and `sim_gn` folders. If data are not already in these folders, please download them from the repository or generate them using `run_simulation.py` and `run_simulation_gn.py`."
   ]
  },
  {
   "attachments": {},
   "cell_type": "markdown",
   "metadata": {},
   "source": [
    "## Housekeeping"
   ]
  },
  {
   "cell_type": "code",
   "execution_count": null,
   "metadata": {},
   "outputs": [],
   "source": [
    "%reset -f\n",
    "%pip install --upgrade pip\n",
    "%pip install --upgrade -r requirements.txt"
   ]
  },
  {
   "cell_type": "code",
   "execution_count": 1,
   "metadata": {},
   "outputs": [],
   "source": [
    "# Imports\n",
    "\n",
    "import os\n",
    "import re\n",
    "import pandas as pd\n",
    "from tqdm import tqdm\n",
    "import os"
   ]
  },
  {
   "attachments": {},
   "cell_type": "markdown",
   "metadata": {},
   "source": [
    "## Process Model 1 simulation"
   ]
  },
  {
   "cell_type": "code",
   "execution_count": null,
   "metadata": {},
   "outputs": [],
   "source": [
    "# For each simulation in sims_gn/\n",
    "# - Load the data from the .csv file\n",
    "# - Take the mean of the population counts for each strategy over the last 2500 generations and save it to the dataframe\n",
    "# - Take the parameters and save them too\n",
    "# - Finally, save the dataframe to a .csv file in data/\n",
    "\n",
    "df = pd.DataFrame([])\n",
    "sim = 0\n",
    "for file in tqdm(os.listdir(\"sim_gn/\")):\n",
    "    if file.endswith(\".csv\") and not file.startswith(\"agg\"):\n",
    "        sim += 1\n",
    "        df_sim = pd.read_csv(os.path.join(\"sim_gn/\", file))\n",
    "        df_sim['count'] = df_sim.groupby(['gen', 'strategy'])['agent_id'].transform('count')\n",
    "        df_sim.drop_duplicates(['gen', 'strategy', 'count'], inplace=True)\n",
    "        df_sim = df_sim[df_sim['gen'] >= 2500]\n",
    "        df_sim = df_sim.groupby('strategy')['count'].mean().reset_index()\n",
    "        # Extract the parameters from the filename\n",
    "        df_sim['delta'] = re.search(r'Delta=(\\d+\\.\\d+)', file).group(1)\n",
    "        df_sim['kappa'] = re.search(r'Kappa=(\\d+\\.\\d+)', file).group(1)\n",
    "        df_sim['sim'] = sim\n",
    "        df = pd.concat([df, df_sim], ignore_index=True)\n",
    "\n",
    "df.to_csv(\"data/model1_simulations_aggregated_frequencies.csv.csv\", index=False)"
   ]
  },
  {
   "cell_type": "code",
   "execution_count": null,
   "metadata": {},
   "outputs": [],
   "source": [
    "# Do the same as above, but for payoffs\n",
    "\n",
    "df = pd.DataFrame([])\n",
    "sim = 0\n",
    "for file in tqdm(os.listdir(\"sim_gn/\")):\n",
    "    if file.endswith(\".csv\") and not file.startswith(\"agg\"):\n",
    "        sim += 1\n",
    "        df_sim = pd.read_csv(os.path.join(\"sim_gn/\", file))\n",
    "        df_sim['avg_payoff'] = df_sim.groupby(['gen', 'strategy'])['payoff'].transform('mean')\n",
    "        df_sim.drop_duplicates(['gen', 'strategy', 'avg_payoff'], inplace=True)\n",
    "        df_sim = df_sim[df_sim['gen'] >= 2500]\n",
    "        df_sim = df_sim.groupby('strategy')['avg_payoff'].mean().reset_index()\n",
    "        # Extract the parameters from the filename\n",
    "        df_sim['delta'] = re.search(r'Delta=(\\d+\\.\\d+)', file).group(1)\n",
    "        df_sim['kappa'] = re.search(r'Kappa=(\\d+\\.\\d+)', file).group(1)\n",
    "        df_sim['sim'] = sim\n",
    "        df = pd.concat([df, df_sim], ignore_index=True)\n",
    "\n",
    "df.to_csv(\"data/model1_simulations_aggregated_payoffs.csv\", index=False)"
   ]
  },
  {
   "attachments": {},
   "cell_type": "markdown",
   "metadata": {},
   "source": [
    "## Process Model 2 simulation"
   ]
  },
  {
   "cell_type": "code",
   "execution_count": null,
   "metadata": {},
   "outputs": [],
   "source": [
    "# For each simulation in sims/ \n",
    "# - Load the data from the .csv file\n",
    "# - Take the mean of the population counts for each strategy over the last 2500 generations (gens 2500-5000) and save it to the dataframe\n",
    "# - Take the parameters from the first row and save them to the dataframe\n",
    "# - Save the dataframe to a .csv file in data/\n",
    "\n",
    "df = pd.DataFrame([])\n",
    "sim = 0\n",
    "for file in tqdm(os.listdir(\"sims/\")):\n",
    "    if file.endswith(\".csv\") and not file.startswith(\"agg\"):\n",
    "        sim += 1\n",
    "        df_sim = pd.read_csv(os.path.join(\"sim_med/\", file))\n",
    "        df_sim['count'] = df_sim.groupby(['gen', 'strategy'])['agent_id'].transform('count')\n",
    "        df_sim.drop_duplicates(['gen', 'strategy', 'count'], inplace=True)\n",
    "        df_sim = df_sim[df_sim['gen'] >= 2500]\n",
    "        df_sim = df_sim.groupby('strategy')['count'].mean().reset_index()\n",
    "        # Extract the parameters from the filename\n",
    "        df_sim['delta'] = re.search(r'Delta=(\\d+\\.\\d+)', file).group(1)\n",
    "        df_sim['lambda'] = re.search(r'Lambda=(\\d+\\.\\d+)', file).group(1)\n",
    "        df_sim['kappa'] = re.search(r'Kappa=(\\d+\\.\\d+)', file).group(1)\n",
    "        df_sim['sim'] = sim\n",
    "        df = pd.concat([df, df_sim], ignore_index=True)\n",
    "\n",
    "df.to_csv(\"data/model2_simulations_aggregated.csv\", index=False)"
   ]
  },
  {
   "cell_type": "code",
   "execution_count": null,
   "metadata": {},
   "outputs": [],
   "source": [
    "# Do the same as above, but for payoffs -- NOTE: this is not used in the paper figures\n",
    "\n",
    "import os\n",
    "import re\n",
    "import pandas as pd\n",
    "from tqdm import tqdm\n",
    "\n",
    "df = pd.DataFrame([])\n",
    "sim = 0\n",
    "for file in tqdm(os.listdir(\"sims/\")):\n",
    "    if file.endswith(\".csv\") and not file.startswith(\"agg\"):\n",
    "        sim += 1\n",
    "        df_sim = pd.read_csv(os.path.join(\"sim_med/\", file))\n",
    "        df_sim['avg_payoff'] = df_sim.groupby(['gen', 'strategy'])['payoff'].transform('mean')\n",
    "        df_sim.drop_duplicates(['gen', 'strategy', 'avg_payoff'], inplace=True)\n",
    "        df_sim = df_sim[df_sim['gen'] >= 2500]\n",
    "        df_sim = df_sim.groupby('strategy')['avg_payoff'].mean().reset_index()\n",
    "        # Extract the parameters from the filename\n",
    "        df_sim['delta'] = re.search(r'Delta=(\\d+\\.\\d+)', file).group(1)\n",
    "        df_sim['lambda'] = re.search(r'Lambda=(\\d+\\.\\d+)', file).group(1)\n",
    "        df_sim['kappa'] = re.search(r'Kappa=(\\d+\\.\\d+)', file).group(1)\n",
    "        df_sim['sim'] = sim\n",
    "        df = pd.concat([df, df_sim], ignore_index=True)\n",
    "\n",
    "df.to_csv(\"data/model2_simulations_aggregated_payoffs.csv\", index=False)"
   ]
  }
 ],
 "metadata": {
  "kernelspec": {
   "display_name": "social-learning-cookbook",
   "language": "python",
   "name": "python3"
  },
  "language_info": {
   "codemirror_mode": {
    "name": "ipython",
    "version": 3
   },
   "file_extension": ".py",
   "mimetype": "text/x-python",
   "name": "python",
   "nbconvert_exporter": "python",
   "pygments_lexer": "ipython3",
   "version": "3.11.1"
  },
  "orig_nbformat": 4,
  "vscode": {
   "interpreter": {
    "hash": "6b20638ab38e2dc81087b2f3e293efcc643b64c3cf54f99a5d9794466d41e931"
   }
  }
 },
 "nbformat": 4,
 "nbformat_minor": 2
}
