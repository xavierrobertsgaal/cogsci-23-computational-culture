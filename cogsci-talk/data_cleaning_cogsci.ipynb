{
 "cells": [
  {
   "attachments": {},
   "cell_type": "markdown",
   "metadata": {},
   "source": [
    "# Code to clean simulation output into data for plotting\n",
    "\n",
    "Slight modifications to the code to create plots used in the CogSci talk\n",
    "\n",
    "This notebook requires existing simulation data to be in the `sim` and `sim_gn` folders. If data are not already in these folders, please download them from the repository or generate them using `run_simulation.py` and `run_simulation_gn.py`."
   ]
  },
  {
   "attachments": {},
   "cell_type": "markdown",
   "metadata": {},
   "source": [
    "## Housekeeping"
   ]
  },
  {
   "cell_type": "code",
   "execution_count": 1,
   "metadata": {},
   "outputs": [
    {
     "name": "stdout",
     "output_type": "stream",
     "text": [
      "Requirement already satisfied: pip in /Users/mir318/.pyenv/versions/3.11.1/envs/social-learning-cookbook/lib/python3.11/site-packages (23.1.2)\n",
      "Collecting pip\n",
      "  Downloading pip-23.2.1-py3-none-any.whl (2.1 MB)\n",
      "\u001b[2K     \u001b[90m━━━━━━━━━━━━━━━━━━━━━━━━━━━━━━━━━━━━━━━━\u001b[0m \u001b[32m2.1/2.1 MB\u001b[0m \u001b[31m2.0 MB/s\u001b[0m eta \u001b[36m0:00:00\u001b[0m00:01\u001b[0m00:01\u001b[0m\n",
      "\u001b[?25hInstalling collected packages: pip\n",
      "  Attempting uninstall: pip\n",
      "    Found existing installation: pip 23.1.2\n",
      "    Uninstalling pip-23.1.2:\n",
      "      Successfully uninstalled pip-23.1.2\n",
      "Successfully installed pip-23.2.1\n",
      "Note: you may need to restart the kernel to use updated packages.\n",
      "Requirement already satisfied: appnope==0.1.3 in /Users/mir318/.pyenv/versions/3.11.1/envs/social-learning-cookbook/lib/python3.11/site-packages (from -r requirements.txt (line 1)) (0.1.3)\n",
      "Requirement already satisfied: asttokens==2.2.1 in /Users/mir318/.pyenv/versions/3.11.1/envs/social-learning-cookbook/lib/python3.11/site-packages (from -r requirements.txt (line 2)) (2.2.1)\n",
      "Requirement already satisfied: backcall==0.2.0 in /Users/mir318/.pyenv/versions/3.11.1/envs/social-learning-cookbook/lib/python3.11/site-packages (from -r requirements.txt (line 3)) (0.2.0)\n",
      "Requirement already satisfied: comm==0.1.3 in /Users/mir318/.pyenv/versions/3.11.1/envs/social-learning-cookbook/lib/python3.11/site-packages (from -r requirements.txt (line 4)) (0.1.3)\n",
      "Requirement already satisfied: contourpy==1.0.7 in /Users/mir318/.pyenv/versions/3.11.1/envs/social-learning-cookbook/lib/python3.11/site-packages (from -r requirements.txt (line 5)) (1.0.7)\n",
      "Requirement already satisfied: cycler==0.11.0 in /Users/mir318/.pyenv/versions/3.11.1/envs/social-learning-cookbook/lib/python3.11/site-packages (from -r requirements.txt (line 6)) (0.11.0)\n",
      "Requirement already satisfied: debugpy==1.6.7 in /Users/mir318/.pyenv/versions/3.11.1/envs/social-learning-cookbook/lib/python3.11/site-packages (from -r requirements.txt (line 7)) (1.6.7)\n",
      "Requirement already satisfied: decorator==5.1.1 in /Users/mir318/.pyenv/versions/3.11.1/envs/social-learning-cookbook/lib/python3.11/site-packages (from -r requirements.txt (line 8)) (5.1.1)\n",
      "Requirement already satisfied: executing==1.2.0 in /Users/mir318/.pyenv/versions/3.11.1/envs/social-learning-cookbook/lib/python3.11/site-packages (from -r requirements.txt (line 9)) (1.2.0)\n",
      "Collecting fonttools==4.39.4 (from -r requirements.txt (line 10))\n",
      "  Using cached fonttools-4.39.4-py3-none-any.whl (1.0 MB)\n",
      "Requirement already satisfied: ipykernel==6.22.0 in /Users/mir318/.pyenv/versions/3.11.1/envs/social-learning-cookbook/lib/python3.11/site-packages (from -r requirements.txt (line 11)) (6.22.0)\n",
      "Requirement already satisfied: ipython==8.12.0 in /Users/mir318/.pyenv/versions/3.11.1/envs/social-learning-cookbook/lib/python3.11/site-packages (from -r requirements.txt (line 12)) (8.12.0)\n",
      "Requirement already satisfied: jedi==0.18.2 in /Users/mir318/.pyenv/versions/3.11.1/envs/social-learning-cookbook/lib/python3.11/site-packages (from -r requirements.txt (line 13)) (0.18.2)\n",
      "Requirement already satisfied: joblib==1.2.0 in /Users/mir318/.pyenv/versions/3.11.1/envs/social-learning-cookbook/lib/python3.11/site-packages (from -r requirements.txt (line 14)) (1.2.0)\n",
      "Requirement already satisfied: jupyter_client==8.2.0 in /Users/mir318/.pyenv/versions/3.11.1/envs/social-learning-cookbook/lib/python3.11/site-packages (from -r requirements.txt (line 15)) (8.2.0)\n",
      "Requirement already satisfied: jupyter_core==5.3.0 in /Users/mir318/.pyenv/versions/3.11.1/envs/social-learning-cookbook/lib/python3.11/site-packages (from -r requirements.txt (line 16)) (5.3.0)\n",
      "Requirement already satisfied: kiwisolver==1.4.4 in /Users/mir318/.pyenv/versions/3.11.1/envs/social-learning-cookbook/lib/python3.11/site-packages (from -r requirements.txt (line 17)) (1.4.4)\n",
      "Requirement already satisfied: matplotlib==3.7.1 in /Users/mir318/.pyenv/versions/3.11.1/envs/social-learning-cookbook/lib/python3.11/site-packages (from -r requirements.txt (line 18)) (3.7.1)\n",
      "Requirement already satisfied: matplotlib-inline==0.1.6 in /Users/mir318/.pyenv/versions/3.11.1/envs/social-learning-cookbook/lib/python3.11/site-packages (from -r requirements.txt (line 19)) (0.1.6)\n",
      "Requirement already satisfied: nest-asyncio==1.5.6 in /Users/mir318/.pyenv/versions/3.11.1/envs/social-learning-cookbook/lib/python3.11/site-packages (from -r requirements.txt (line 20)) (1.5.6)\n",
      "Collecting numpy==1.24.3 (from -r requirements.txt (line 21))\n",
      "  Using cached numpy-1.24.3-cp311-cp311-macosx_11_0_arm64.whl (13.8 MB)\n",
      "Requirement already satisfied: packaging==23.1 in /Users/mir318/.pyenv/versions/3.11.1/envs/social-learning-cookbook/lib/python3.11/site-packages (from -r requirements.txt (line 22)) (23.1)\n",
      "Collecting pandas==2.0.1 (from -r requirements.txt (line 23))\n",
      "  Using cached pandas-2.0.1-cp311-cp311-macosx_11_0_arm64.whl (10.7 MB)\n",
      "Requirement already satisfied: parso==0.8.3 in /Users/mir318/.pyenv/versions/3.11.1/envs/social-learning-cookbook/lib/python3.11/site-packages (from -r requirements.txt (line 24)) (0.8.3)\n",
      "Requirement already satisfied: pexpect==4.8.0 in /Users/mir318/.pyenv/versions/3.11.1/envs/social-learning-cookbook/lib/python3.11/site-packages (from -r requirements.txt (line 25)) (4.8.0)\n",
      "Requirement already satisfied: pickleshare==0.7.5 in /Users/mir318/.pyenv/versions/3.11.1/envs/social-learning-cookbook/lib/python3.11/site-packages (from -r requirements.txt (line 26)) (0.7.5)\n",
      "Requirement already satisfied: Pillow==9.5.0 in /Users/mir318/.pyenv/versions/3.11.1/envs/social-learning-cookbook/lib/python3.11/site-packages (from -r requirements.txt (line 27)) (9.5.0)\n",
      "Requirement already satisfied: platformdirs==3.2.0 in /Users/mir318/.pyenv/versions/3.11.1/envs/social-learning-cookbook/lib/python3.11/site-packages (from -r requirements.txt (line 28)) (3.2.0)\n",
      "Requirement already satisfied: prompt-toolkit==3.0.38 in /Users/mir318/.pyenv/versions/3.11.1/envs/social-learning-cookbook/lib/python3.11/site-packages (from -r requirements.txt (line 29)) (3.0.38)\n",
      "Requirement already satisfied: psutil==5.9.5 in /Users/mir318/.pyenv/versions/3.11.1/envs/social-learning-cookbook/lib/python3.11/site-packages (from -r requirements.txt (line 30)) (5.9.5)\n",
      "Requirement already satisfied: ptyprocess==0.7.0 in /Users/mir318/.pyenv/versions/3.11.1/envs/social-learning-cookbook/lib/python3.11/site-packages (from -r requirements.txt (line 31)) (0.7.0)\n",
      "Requirement already satisfied: pure-eval==0.2.2 in /Users/mir318/.pyenv/versions/3.11.1/envs/social-learning-cookbook/lib/python3.11/site-packages (from -r requirements.txt (line 32)) (0.2.2)\n",
      "Requirement already satisfied: Pygments==2.15.1 in /Users/mir318/.pyenv/versions/3.11.1/envs/social-learning-cookbook/lib/python3.11/site-packages (from -r requirements.txt (line 33)) (2.15.1)\n",
      "Requirement already satisfied: pyparsing==3.0.9 in /Users/mir318/.pyenv/versions/3.11.1/envs/social-learning-cookbook/lib/python3.11/site-packages (from -r requirements.txt (line 34)) (3.0.9)\n",
      "Requirement already satisfied: python-dateutil==2.8.2 in /Users/mir318/.pyenv/versions/3.11.1/envs/social-learning-cookbook/lib/python3.11/site-packages (from -r requirements.txt (line 35)) (2.8.2)\n",
      "Requirement already satisfied: pytz==2023.3 in /Users/mir318/.pyenv/versions/3.11.1/envs/social-learning-cookbook/lib/python3.11/site-packages (from -r requirements.txt (line 36)) (2023.3)\n",
      "Requirement already satisfied: pyzmq==25.0.2 in /Users/mir318/.pyenv/versions/3.11.1/envs/social-learning-cookbook/lib/python3.11/site-packages (from -r requirements.txt (line 37)) (25.0.2)\n",
      "Requirement already satisfied: scipy==1.10.1 in /Users/mir318/.pyenv/versions/3.11.1/envs/social-learning-cookbook/lib/python3.11/site-packages (from -r requirements.txt (line 38)) (1.10.1)\n",
      "Requirement already satisfied: seaborn==0.12.2 in /Users/mir318/.pyenv/versions/3.11.1/envs/social-learning-cookbook/lib/python3.11/site-packages (from -r requirements.txt (line 39)) (0.12.2)\n",
      "Requirement already satisfied: six==1.16.0 in /Users/mir318/.pyenv/versions/3.11.1/envs/social-learning-cookbook/lib/python3.11/site-packages (from -r requirements.txt (line 40)) (1.16.0)\n",
      "Requirement already satisfied: stack-data==0.6.2 in /Users/mir318/.pyenv/versions/3.11.1/envs/social-learning-cookbook/lib/python3.11/site-packages (from -r requirements.txt (line 41)) (0.6.2)\n",
      "Requirement already satisfied: tornado==6.3 in /Users/mir318/.pyenv/versions/3.11.1/envs/social-learning-cookbook/lib/python3.11/site-packages (from -r requirements.txt (line 42)) (6.3)\n",
      "Requirement already satisfied: traitlets==5.9.0 in /Users/mir318/.pyenv/versions/3.11.1/envs/social-learning-cookbook/lib/python3.11/site-packages (from -r requirements.txt (line 43)) (5.9.0)\n",
      "Requirement already satisfied: tzdata==2023.3 in /Users/mir318/.pyenv/versions/3.11.1/envs/social-learning-cookbook/lib/python3.11/site-packages (from -r requirements.txt (line 44)) (2023.3)\n",
      "Requirement already satisfied: wcwidth==0.2.6 in /Users/mir318/.pyenv/versions/3.11.1/envs/social-learning-cookbook/lib/python3.11/site-packages (from -r requirements.txt (line 45)) (0.2.6)\n",
      "Installing collected packages: numpy, fonttools, pandas\n",
      "  Attempting uninstall: numpy\n",
      "    Found existing installation: numpy 1.24.2\n",
      "    Uninstalling numpy-1.24.2:\n",
      "      Successfully uninstalled numpy-1.24.2\n",
      "  Attempting uninstall: fonttools\n",
      "    Found existing installation: fonttools 4.39.3\n",
      "    Uninstalling fonttools-4.39.3:\n",
      "      Successfully uninstalled fonttools-4.39.3\n",
      "  Attempting uninstall: pandas\n",
      "    Found existing installation: pandas 2.0.0\n",
      "    Uninstalling pandas-2.0.0:\n",
      "      Successfully uninstalled pandas-2.0.0\n",
      "Successfully installed fonttools-4.39.4 numpy-1.24.3 pandas-2.0.1\n",
      "Note: you may need to restart the kernel to use updated packages.\n"
     ]
    }
   ],
   "source": [
    "%reset -f\n",
    "%pip install --upgrade pip\n",
    "%pip install --upgrade -r requirements.txt"
   ]
  },
  {
   "cell_type": "code",
   "execution_count": 1,
   "metadata": {},
   "outputs": [],
   "source": [
    "# Imports\n",
    "\n",
    "import os\n",
    "import re\n",
    "import pandas as pd\n",
    "import numpy as np\n",
    "from tqdm import tqdm\n",
    "import os"
   ]
  },
  {
   "attachments": {},
   "cell_type": "markdown",
   "metadata": {},
   "source": [
    "## Process Model 1 simulation"
   ]
  },
  {
   "cell_type": "code",
   "execution_count": 20,
   "metadata": {},
   "outputs": [
    {
     "name": "stderr",
     "output_type": "stream",
     "text": [
      "100%|██████████| 1010/1010 [44:29<00:00,  2.64s/it]   \n"
     ]
    }
   ],
   "source": [
    "# For each simulation in sims_gn/\n",
    "# - Load the data from the .csv file\n",
    "# - Take the mean of the population counts for each strategy over the last 2500 generations and save it to the dataframe\n",
    "# - Take the parameters and save them too\n",
    "# - Finally, save the dataframe to a .csv file in data/\n",
    "\n",
    "df = pd.DataFrame([])\n",
    "sim = 0\n",
    "for file in tqdm(os.listdir(\"cogsci-talk/data_gn/\")):\n",
    "    if file.endswith(\".csv\") and not file.startswith(\"model\"):\n",
    "        sim += 1\n",
    "        df_sim = pd.read_csv(os.path.join(\"cogsci-talk/data_gn/\", file))\n",
    "        df_sim['count'] = df_sim.groupby(['gen', 'strategy'])['agent_id'].transform('count')\n",
    "        df_sim.drop_duplicates(['gen', 'strategy', 'count'], inplace=True)\n",
    "        df_sim = df_sim[df_sim['gen'] >= 2500]\n",
    "        df_sim = df_sim.groupby('strategy')['count'].mean().reset_index()\n",
    "        # Extract the parameters from the filename\n",
    "        df_sim['delta'] = re.search(r'Delta=(\\d+\\.\\d+)', file).group(1)\n",
    "        df_sim['kappa'] = re.search(r'Kappa=(\\d+\\.\\d+)', file).group(1)\n",
    "        seed = re.search(r'seed=(\\d+)', file).group(1)\n",
    "        df_sim['sim'] = sim\n",
    "        df_sim['seed'] = seed\n",
    "        df = pd.concat([df, df_sim], ignore_index=True)\n",
    "\n",
    "df.to_csv(\"cogsci-talk/data/model1_simulations_aggregated.csv\", index=False)"
   ]
  },
  {
   "cell_type": "code",
   "execution_count": 21,
   "metadata": {},
   "outputs": [
    {
     "name": "stderr",
     "output_type": "stream",
     "text": [
      "100%|██████████| 1010/1010 [07:02<00:00,  2.39it/s]\n"
     ]
    }
   ],
   "source": [
    "# Do the same as above, but for payoffs\n",
    "\n",
    "df = pd.DataFrame([])\n",
    "sim = 0\n",
    "for file in tqdm(os.listdir(\"cogsci-talk/data_gn/\")):\n",
    "    if file.endswith(\".csv\") and not file.startswith(\"model\"):\n",
    "        sim += 1\n",
    "        df_sim = pd.read_csv(os.path.join(\"cogsci-talk/data_gn/\", file))\n",
    "        df_sim['avg_payoff'] = df_sim.groupby(['gen', 'strategy'])['payoff'].transform('mean')\n",
    "        df_sim.drop_duplicates(['gen', 'strategy', 'avg_payoff'], inplace=True)\n",
    "        df_sim = df_sim[df_sim['gen'] >= 2500]\n",
    "        df_sim = df_sim.groupby('strategy')['avg_payoff'].mean().reset_index()\n",
    "        # Extract the parameters from the filename\n",
    "        df_sim['delta'] = re.search(r'Delta=(\\d+\\.\\d+)', file).group(1)\n",
    "        df_sim['kappa'] = re.search(r'Kappa=(\\d+\\.\\d+)', file).group(1)\n",
    "        df_sim['seed'] = re.search(r'seed=(\\d+)', file).group(1)\n",
    "        df_sim['sim'] = sim\n",
    "        df = pd.concat([df, df_sim], ignore_index=True)\n",
    "\n",
    "df.to_csv(\"cogsci-talk/data/model1_simulations_aggregated_payoffs.csv\", index=False)"
   ]
  },
  {
   "attachments": {},
   "cell_type": "markdown",
   "metadata": {},
   "source": [
    "## Process Model 2 simulation"
   ]
  },
  {
   "cell_type": "code",
   "execution_count": 4,
   "metadata": {},
   "outputs": [
    {
     "name": "stderr",
     "output_type": "stream",
     "text": [
      "100%|██████████| 3034/3034 [23:59<00:00,  2.11it/s]\n"
     ]
    }
   ],
   "source": [
    "df = pd.DataFrame([])\n",
    "sim = 0\n",
    "for file in tqdm(os.listdir(\"cogsci-talk/data/\")):\n",
    "    if file.endswith(\".csv\") and not file.startswith(\"model\"):\n",
    "        sim += 1\n",
    "        df_sim = pd.read_csv(os.path.join(\"cogsci-talk/data/\", file))\n",
    "        df_sim['count'] = df_sim.groupby(['gen', 'strategy'])['agent_id'].transform('count')\n",
    "        df_sim.drop_duplicates(['gen', 'strategy', 'count'], inplace=True)\n",
    "        df_sim = df_sim[df_sim['gen'] >= 2500]\n",
    "        df_sim = df_sim.groupby('strategy')['count'].mean().reset_index()\n",
    "        # Extract the parameters from the filename\n",
    "        df_sim['delta'] = re.search(r'Delta=(\\d+\\.\\d+)', file).group(1)\n",
    "        df_sim['lambda'] = re.search(r'Lambda=(\\d+\\.\\d+)', file).group(1)\n",
    "        df_sim['kappa'] = re.search(r'Kappa=(\\d+\\.\\d+)', file).group(1)\n",
    "        seed = re.search(r'seed=(\\d+)', file).group(1)\n",
    "        df_sim['sim'] = sim\n",
    "        df_sim['seed'] = re.search(r'seed=(\\d+)', file).group(1)\n",
    "        df = pd.concat([df, df_sim], ignore_index=True)\n",
    "\n",
    "df.to_csv(\"cogsci-talk/data/model2_simulations_aggregated.csv\", index=False)"
   ]
  },
  {
   "cell_type": "code",
   "execution_count": 5,
   "metadata": {},
   "outputs": [
    {
     "name": "stderr",
     "output_type": "stream",
     "text": [
      "  0%|          | 0/3034 [00:00<?, ?it/s]"
     ]
    },
    {
     "name": "stderr",
     "output_type": "stream",
     "text": [
      "100%|██████████| 3034/3034 [56:16<00:00,  1.11s/it]   \n"
     ]
    }
   ],
   "source": [
    "# Do the same as above, but for payoffs -- NOTE: this is not used in the paper figures\n",
    "\n",
    "df = pd.DataFrame([])\n",
    "sim = 0\n",
    "for file in tqdm(os.listdir(\"cogsci-talk/data/\")):\n",
    "    if file.endswith(\".csv\") and not file.startswith(\"model\"):\n",
    "        sim += 1\n",
    "        df_sim = pd.read_csv(os.path.join(\"cogsci-talk/data/\", file))\n",
    "        df_sim['avg_payoff'] = df_sim.groupby(['gen', 'strategy'])['payoff'].transform('mean')\n",
    "        df_sim.drop_duplicates(['gen', 'strategy', 'avg_payoff'], inplace=True)\n",
    "        df_sim = df_sim[df_sim['gen'] >= 2500]\n",
    "        df_sim = df_sim.groupby('strategy')['avg_payoff'].mean().reset_index()\n",
    "        # Extract the parameters from the filename\n",
    "        df_sim['delta'] = re.search(r'Delta=(\\d+\\.\\d+)', file).group(1)\n",
    "        df_sim['lambda'] = re.search(r'Lambda=(\\d+\\.\\d+)', file).group(1)\n",
    "        df_sim['kappa'] = re.search(r'Kappa=(\\d+\\.\\d+)', file).group(1)\n",
    "        df_sim['sim'] = sim\n",
    "        df_sim['seed'] = re.search(r'seed=(\\d+)', file).group(1)\n",
    "        df = pd.concat([df, df_sim], ignore_index=True)\n",
    "\n",
    "df.to_csv(\"cogsci-talk/data/model2_simulations_aggregated_payoffs.csv\", index=False)"
   ]
  },
  {
   "cell_type": "markdown",
   "metadata": {},
   "source": [
    "Check we ran all the simulations we were meant to"
   ]
  },
  {
   "cell_type": "code",
   "execution_count": 63,
   "metadata": {},
   "outputs": [],
   "source": [
    "params_to_run = pd.DataFrame([])\n",
    "\n",
    "params1 = pd.read_csv(\"cogsci-talk/params.csv\")\n",
    "params2 = pd.read_csv(\"cogsci-talk/params2.csv\")\n",
    "params = pd.concat([params1, params2], ignore_index=True)\n",
    "\n",
    "for seed in range(42, 52, 1):\n",
    "    params['Seed'] = seed\n",
    "    params_to_run = pd.concat([params_to_run, params], ignore_index=True)\n",
    "\n",
    "params_to_run.sort_values(by=['Delta', 'Lambda', 'Kappa', 'Seed'], inplace=True)\n",
    "params_to_run.reset_index(drop=True, inplace=True)"
   ]
  },
  {
   "cell_type": "code",
   "execution_count": 64,
   "metadata": {},
   "outputs": [],
   "source": [
    "# Load the parameters that have already been run, and find those we still need to run\n",
    "\n",
    "# Extract parameters from the filenames\n",
    "already_run = pd.DataFrame([])\n",
    "\n",
    "for file in os.listdir(\"cogsci-talk/data/\"):\n",
    "    if file.endswith(\".csv\") and not file.startswith(\"model\"):\n",
    "        already_run = pd.concat([already_run, pd.DataFrame([float(re.search(r'Delta=(\\d+\\.\\d+)', file).group(1)), \n",
    "                                                            float(re.search(r'Lambda=(\\d+\\.\\d+)', file).group(1)), \n",
    "                                                            float(re.search(r'Kappa=(\\d+\\.\\d+)', file).group(1)), \n",
    "                                                            int(re.search(r'seed=(\\d+)', file).group(1))]).T], ignore_index=True)\n",
    "\n",
    "already_run.columns = ['Delta', 'Lambda', 'Kappa', 'Seed']\n",
    "\n",
    "already_run = already_run.sort_values(['Delta', 'Lambda', 'Seed']).reset_index(drop=True)\n",
    "\n",
    "#already_run = pd.read_csv(\"cogsci-talk/data/model2_simulations_aggregated.csv\")\n",
    "#already_run_copy = already_run.copy()\n",
    "#already_run = already_run[['delta', 'lambda', 'kappa', 'seed']].drop_duplicates()\n",
    "\n",
    "# Change the column names to match the params dataframe\n",
    "#already_run.columns = ['Delta', 'Lambda', 'Kappa', 'Seed']\n",
    "#already_run.to_csv(\"cogsci-talk/params2_already_run.csv\", index=False)"
   ]
  },
  {
   "cell_type": "code",
   "execution_count": 65,
   "metadata": {},
   "outputs": [],
   "source": [
    "# Find the parameters we still need to run\n",
    "params_to_run = params_to_run.merge(already_run, how='left', indicator=True)\n",
    "params_not_run = params_to_run[params_to_run['_merge'] == 'left_only']\n",
    "\n",
    "# Save the parameters we still need to run to two files, splitting them up so that we can run them in parallel\n",
    "params_not_run.iloc[:len(params_not_run)//2].to_csv(\"cogsci-talk/params_not_run1.csv\", index=False)\n",
    "params_not_run.iloc[len(params_not_run)//2:].to_csv(\"cogsci-talk/params_not_run2.csv\", index=False)"
   ]
  }
 ],
 "metadata": {
  "kernelspec": {
   "display_name": "social-learning-cookbook",
   "language": "python",
   "name": "python3"
  },
  "language_info": {
   "codemirror_mode": {
    "name": "ipython",
    "version": 3
   },
   "file_extension": ".py",
   "mimetype": "text/x-python",
   "name": "python",
   "nbconvert_exporter": "python",
   "pygments_lexer": "ipython3",
   "version": "3.11.1"
  },
  "orig_nbformat": 4,
  "vscode": {
   "interpreter": {
    "hash": "6b20638ab38e2dc81087b2f3e293efcc643b64c3cf54f99a5d9794466d41e931"
   }
  }
 },
 "nbformat": 4,
 "nbformat_minor": 2
}
